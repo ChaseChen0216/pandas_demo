{
 "cells": [
  {
   "cell_type": "code",
   "execution_count": 2,
   "id": "992b5331-fe2f-4517-b95a-0133437d8bc1",
   "metadata": {},
   "outputs": [],
   "source": [
    "import pandas as pd\n",
    "import numpy as np\n",
    "from bson import Decimal"
   ]
  },
  {
   "cell_type": "code",
   "execution_count": 9,
   "id": "5a26a1ed-7768-44a9-8e35-bae4c0119633",
   "metadata": {},
   "outputs": [],
   "source": [
    "df = pd.DataFrame(data={\"one\": [3.469112, -0.282863, -1.509059],\n",
    "                   \"two\": [0.932424,  1.224234,  7.823421],\n",
    "                   \"three\": [0.232424,  2.342112,  0.982342]})"
   ]
  },
  {
   "cell_type": "code",
   "execution_count": 10,
   "id": "a67988f8-59ec-4703-b5e9-8740ca0e4cc8",
   "metadata": {},
   "outputs": [
    {
     "data": {
      "text/html": [
       "<div>\n",
       "<style scoped>\n",
       "    .dataframe tbody tr th:only-of-type {\n",
       "        vertical-align: middle;\n",
       "    }\n",
       "\n",
       "    .dataframe tbody tr th {\n",
       "        vertical-align: top;\n",
       "    }\n",
       "\n",
       "    .dataframe thead th {\n",
       "        text-align: right;\n",
       "    }\n",
       "</style>\n",
       "<table border=\"1\" class=\"dataframe\">\n",
       "  <thead>\n",
       "    <tr style=\"text-align: right;\">\n",
       "      <th></th>\n",
       "      <th>one</th>\n",
       "      <th>two</th>\n",
       "      <th>three</th>\n",
       "    </tr>\n",
       "  </thead>\n",
       "  <tbody>\n",
       "    <tr>\n",
       "      <th>0</th>\n",
       "      <td>3.469112</td>\n",
       "      <td>0.932424</td>\n",
       "      <td>0.232424</td>\n",
       "    </tr>\n",
       "    <tr>\n",
       "      <th>1</th>\n",
       "      <td>-0.282863</td>\n",
       "      <td>1.224234</td>\n",
       "      <td>2.342112</td>\n",
       "    </tr>\n",
       "    <tr>\n",
       "      <th>2</th>\n",
       "      <td>-1.509059</td>\n",
       "      <td>7.823421</td>\n",
       "      <td>0.982342</td>\n",
       "    </tr>\n",
       "  </tbody>\n",
       "</table>\n",
       "</div>"
      ],
      "text/plain": [
       "        one       two     three\n",
       "0  3.469112  0.932424  0.232424\n",
       "1 -0.282863  1.224234  2.342112\n",
       "2 -1.509059  7.823421  0.982342"
      ]
     },
     "execution_count": 10,
     "metadata": {},
     "output_type": "execute_result"
    }
   ],
   "source": [
    "df"
   ]
  },
  {
   "cell_type": "markdown",
   "id": "cc7fa70a-3676-4b00-9fe0-0fda1f800a02",
   "metadata": {},
   "source": [
    "### (1.1) 除数为int64/int32/int类型， 被除数非零， 除以 0 --> 无穷大"
   ]
  },
  {
   "cell_type": "code",
   "execution_count": 5,
   "id": "485f4557-88c9-4e3a-aed6-cd3ea6dc3f7e",
   "metadata": {},
   "outputs": [],
   "source": [
    "df['two'] = df['two'].astype('int64')"
   ]
  },
  {
   "cell_type": "code",
   "execution_count": 6,
   "id": "163a2aeb-cb57-4d32-9428-41d6fa96c1b4",
   "metadata": {},
   "outputs": [
    {
     "data": {
      "text/html": [
       "<div>\n",
       "<style scoped>\n",
       "    .dataframe tbody tr th:only-of-type {\n",
       "        vertical-align: middle;\n",
       "    }\n",
       "\n",
       "    .dataframe tbody tr th {\n",
       "        vertical-align: top;\n",
       "    }\n",
       "\n",
       "    .dataframe thead th {\n",
       "        text-align: right;\n",
       "    }\n",
       "</style>\n",
       "<table border=\"1\" class=\"dataframe\">\n",
       "  <thead>\n",
       "    <tr style=\"text-align: right;\">\n",
       "      <th></th>\n",
       "      <th>one</th>\n",
       "      <th>two</th>\n",
       "      <th>three</th>\n",
       "    </tr>\n",
       "  </thead>\n",
       "  <tbody>\n",
       "    <tr>\n",
       "      <th>0</th>\n",
       "      <td>3.469112</td>\n",
       "      <td>0</td>\n",
       "      <td>0.232424</td>\n",
       "    </tr>\n",
       "    <tr>\n",
       "      <th>1</th>\n",
       "      <td>-0.282863</td>\n",
       "      <td>1</td>\n",
       "      <td>2.342112</td>\n",
       "    </tr>\n",
       "    <tr>\n",
       "      <th>2</th>\n",
       "      <td>-1.509059</td>\n",
       "      <td>7</td>\n",
       "      <td>0.982342</td>\n",
       "    </tr>\n",
       "  </tbody>\n",
       "</table>\n",
       "</div>"
      ],
      "text/plain": [
       "        one  two     three\n",
       "0  3.469112    0  0.232424\n",
       "1 -0.282863    1  2.342112\n",
       "2 -1.509059    7  0.982342"
      ]
     },
     "execution_count": 6,
     "metadata": {},
     "output_type": "execute_result"
    }
   ],
   "source": [
    "df"
   ]
  },
  {
   "cell_type": "code",
   "execution_count": 7,
   "id": "1c069f57-4950-4b90-a408-f5fdccc2ab76",
   "metadata": {},
   "outputs": [],
   "source": [
    "df['result'] = df.one.div(df.two)   # the same as df['result'] = df['one'] /df['two'] "
   ]
  },
  {
   "cell_type": "code",
   "execution_count": 8,
   "id": "ed7f0d5e-c436-4f9d-8518-1fb8aa807b45",
   "metadata": {},
   "outputs": [
    {
     "data": {
      "text/html": [
       "<div>\n",
       "<style scoped>\n",
       "    .dataframe tbody tr th:only-of-type {\n",
       "        vertical-align: middle;\n",
       "    }\n",
       "\n",
       "    .dataframe tbody tr th {\n",
       "        vertical-align: top;\n",
       "    }\n",
       "\n",
       "    .dataframe thead th {\n",
       "        text-align: right;\n",
       "    }\n",
       "</style>\n",
       "<table border=\"1\" class=\"dataframe\">\n",
       "  <thead>\n",
       "    <tr style=\"text-align: right;\">\n",
       "      <th></th>\n",
       "      <th>one</th>\n",
       "      <th>two</th>\n",
       "      <th>three</th>\n",
       "      <th>result</th>\n",
       "    </tr>\n",
       "  </thead>\n",
       "  <tbody>\n",
       "    <tr>\n",
       "      <th>0</th>\n",
       "      <td>3.469112</td>\n",
       "      <td>0</td>\n",
       "      <td>0.232424</td>\n",
       "      <td>inf</td>\n",
       "    </tr>\n",
       "    <tr>\n",
       "      <th>1</th>\n",
       "      <td>-0.282863</td>\n",
       "      <td>1</td>\n",
       "      <td>2.342112</td>\n",
       "      <td>-0.282863</td>\n",
       "    </tr>\n",
       "    <tr>\n",
       "      <th>2</th>\n",
       "      <td>-1.509059</td>\n",
       "      <td>7</td>\n",
       "      <td>0.982342</td>\n",
       "      <td>-0.215580</td>\n",
       "    </tr>\n",
       "  </tbody>\n",
       "</table>\n",
       "</div>"
      ],
      "text/plain": [
       "        one  two     three    result\n",
       "0  3.469112    0  0.232424       inf\n",
       "1 -0.282863    1  2.342112 -0.282863\n",
       "2 -1.509059    7  0.982342 -0.215580"
      ]
     },
     "execution_count": 8,
     "metadata": {},
     "output_type": "execute_result"
    }
   ],
   "source": [
    "df"
   ]
  },
  {
   "cell_type": "code",
   "execution_count": 176,
   "id": "fd2a6469-ac34-4b14-a3d2-cf2306b06a06",
   "metadata": {},
   "outputs": [
    {
     "data": {
      "text/plain": [
       "True"
      ]
     },
     "execution_count": 176,
     "metadata": {},
     "output_type": "execute_result"
    }
   ],
   "source": [
    "df.iloc[0, 3] == float('inf')  # np.inf has the same value and the same type as math.inf and float('inf')"
   ]
  },
  {
   "cell_type": "markdown",
   "id": "b239ed40-7895-4f40-84b0-037c1c896b8d",
   "metadata": {},
   "source": [
    "### (1.2) 除数为int64/int32/int类型， 被除数为零， 除以 0 --> NaN"
   ]
  },
  {
   "cell_type": "code",
   "execution_count": 203,
   "id": "408b1232-1a95-4cd9-8e52-94437117bc25",
   "metadata": {},
   "outputs": [],
   "source": [
    "df['one'] = [0.469112, -0.282863, -1.509059]"
   ]
  },
  {
   "cell_type": "code",
   "execution_count": null,
   "id": "8a9b84fc-4b7b-4295-b57d-b516dbfe7d65",
   "metadata": {},
   "outputs": [],
   "source": [
    "df[['one', 'two']] = df[['one', 'two']].astype(int)  # the same as astype('int32') 、astype('int64') 、"
   ]
  },
  {
   "cell_type": "code",
   "execution_count": 194,
   "id": "7edbce35-4715-4263-aa58-19910e9ae2c3",
   "metadata": {},
   "outputs": [],
   "source": [
    "df['result'] = df.one.div(df.two)   # the same as df['result'] = df['one'] /df['two'] "
   ]
  },
  {
   "cell_type": "markdown",
   "id": "dc3dd7d0-0769-449f-a587-ded92121db4b",
   "metadata": {},
   "source": [
    "### (1.3) 除数为Decimal类型， 被除数 除以 0 --> 抛出异常 DivisionByZero: [<class 'decimal.DivisionByZero'>]"
   ]
  },
  {
   "cell_type": "code",
   "execution_count": 11,
   "id": "7dae8540-6783-4218-b29f-5676aa7af9cb",
   "metadata": {},
   "outputs": [],
   "source": [
    "df['one'] = [0.469112, -0.282863, -1.509059]"
   ]
  },
  {
   "cell_type": "code",
   "execution_count": 12,
   "id": "27ebac9c-4448-4e53-b3a4-0471ae440cb3",
   "metadata": {},
   "outputs": [],
   "source": [
    "df['two'] = df['two'].apply(lambda x : Decimal(int(x)))   "
   ]
  },
  {
   "cell_type": "code",
   "execution_count": 13,
   "id": "d5dcbce7-8caa-49b6-9563-23daac32602f",
   "metadata": {},
   "outputs": [
    {
     "ename": "TypeError",
     "evalue": "unsupported operand type(s) for /: 'float' and 'decimal.Decimal'",
     "output_type": "error",
     "traceback": [
      "\u001b[0;31m---------------------------------------------------------------------------\u001b[0m",
      "\u001b[0;31mTypeError\u001b[0m                                 Traceback (most recent call last)",
      "Input \u001b[0;32mIn [13]\u001b[0m, in \u001b[0;36m<cell line: 1>\u001b[0;34m()\u001b[0m\n\u001b[0;32m----> 1\u001b[0m df[\u001b[38;5;124m'\u001b[39m\u001b[38;5;124mresult\u001b[39m\u001b[38;5;124m'\u001b[39m] \u001b[38;5;241m=\u001b[39m \u001b[43mdf\u001b[49m\u001b[38;5;241;43m.\u001b[39;49m\u001b[43mone\u001b[49m\u001b[38;5;241;43m.\u001b[39;49m\u001b[43mdiv\u001b[49m\u001b[43m(\u001b[49m\u001b[43mdf\u001b[49m\u001b[38;5;241;43m.\u001b[39;49m\u001b[43mtwo\u001b[49m\u001b[43m)\u001b[49m\n",
      "File \u001b[0;32m/opt/conda/lib/python3.9/site-packages/pandas/core/ops/__init__.py:185\u001b[0m, in \u001b[0;36mflex_method_SERIES.<locals>.flex_wrapper\u001b[0;34m(self, other, level, fill_value, axis)\u001b[0m\n\u001b[1;32m    182\u001b[0m res_name \u001b[38;5;241m=\u001b[39m get_op_result_name(\u001b[38;5;28mself\u001b[39m, other)\n\u001b[1;32m    184\u001b[0m \u001b[38;5;28;01mif\u001b[39;00m \u001b[38;5;28misinstance\u001b[39m(other, ABCSeries):\n\u001b[0;32m--> 185\u001b[0m     \u001b[38;5;28;01mreturn\u001b[39;00m \u001b[38;5;28;43mself\u001b[39;49m\u001b[38;5;241;43m.\u001b[39;49m\u001b[43m_binop\u001b[49m\u001b[43m(\u001b[49m\u001b[43mother\u001b[49m\u001b[43m,\u001b[49m\u001b[43m \u001b[49m\u001b[43mop\u001b[49m\u001b[43m,\u001b[49m\u001b[43m \u001b[49m\u001b[43mlevel\u001b[49m\u001b[38;5;241;43m=\u001b[39;49m\u001b[43mlevel\u001b[49m\u001b[43m,\u001b[49m\u001b[43m \u001b[49m\u001b[43mfill_value\u001b[49m\u001b[38;5;241;43m=\u001b[39;49m\u001b[43mfill_value\u001b[49m\u001b[43m)\u001b[49m\n\u001b[1;32m    186\u001b[0m \u001b[38;5;28;01melif\u001b[39;00m \u001b[38;5;28misinstance\u001b[39m(other, (np\u001b[38;5;241m.\u001b[39mndarray, \u001b[38;5;28mlist\u001b[39m, \u001b[38;5;28mtuple\u001b[39m)):\n\u001b[1;32m    187\u001b[0m     \u001b[38;5;28;01mif\u001b[39;00m \u001b[38;5;28mlen\u001b[39m(other) \u001b[38;5;241m!=\u001b[39m \u001b[38;5;28mlen\u001b[39m(\u001b[38;5;28mself\u001b[39m):\n",
      "File \u001b[0;32m/opt/conda/lib/python3.9/site-packages/pandas/core/series.py:2983\u001b[0m, in \u001b[0;36mSeries._binop\u001b[0;34m(self, other, func, level, fill_value)\u001b[0m\n\u001b[1;32m   2980\u001b[0m this_vals, other_vals \u001b[38;5;241m=\u001b[39m ops\u001b[38;5;241m.\u001b[39mfill_binop(this\u001b[38;5;241m.\u001b[39m_values, other\u001b[38;5;241m.\u001b[39m_values, fill_value)\n\u001b[1;32m   2982\u001b[0m \u001b[38;5;28;01mwith\u001b[39;00m np\u001b[38;5;241m.\u001b[39merrstate(\u001b[38;5;28mall\u001b[39m\u001b[38;5;241m=\u001b[39m\u001b[38;5;124m\"\u001b[39m\u001b[38;5;124mignore\u001b[39m\u001b[38;5;124m\"\u001b[39m):\n\u001b[0;32m-> 2983\u001b[0m     result \u001b[38;5;241m=\u001b[39m \u001b[43mfunc\u001b[49m\u001b[43m(\u001b[49m\u001b[43mthis_vals\u001b[49m\u001b[43m,\u001b[49m\u001b[43m \u001b[49m\u001b[43mother_vals\u001b[49m\u001b[43m)\u001b[49m\n\u001b[1;32m   2985\u001b[0m name \u001b[38;5;241m=\u001b[39m ops\u001b[38;5;241m.\u001b[39mget_op_result_name(\u001b[38;5;28mself\u001b[39m, other)\n\u001b[1;32m   2986\u001b[0m \u001b[38;5;28;01mreturn\u001b[39;00m this\u001b[38;5;241m.\u001b[39m_construct_result(result, name)\n",
      "\u001b[0;31mTypeError\u001b[0m: unsupported operand type(s) for /: 'float' and 'decimal.Decimal'"
     ]
    }
   ],
   "source": [
    "df['result'] = df.one.div(df.two)  "
   ]
  },
  {
   "cell_type": "code",
   "execution_count": 223,
   "id": "6939876c-99dc-441a-9586-4a7d09871baa",
   "metadata": {},
   "outputs": [
    {
     "data": {
      "text/html": [
       "<div>\n",
       "<style scoped>\n",
       "    .dataframe tbody tr th:only-of-type {\n",
       "        vertical-align: middle;\n",
       "    }\n",
       "\n",
       "    .dataframe tbody tr th {\n",
       "        vertical-align: top;\n",
       "    }\n",
       "\n",
       "    .dataframe thead th {\n",
       "        text-align: right;\n",
       "    }\n",
       "</style>\n",
       "<table border=\"1\" class=\"dataframe\">\n",
       "  <thead>\n",
       "    <tr style=\"text-align: right;\">\n",
       "      <th></th>\n",
       "      <th>one</th>\n",
       "      <th>two</th>\n",
       "      <th>three</th>\n",
       "      <th>result</th>\n",
       "    </tr>\n",
       "  </thead>\n",
       "  <tbody>\n",
       "    <tr>\n",
       "      <th>0</th>\n",
       "      <td>0.46911199999999997345412339200265705585479736...</td>\n",
       "      <td>0.93242400000000003057465391975711099803447723...</td>\n",
       "      <td>0.232424</td>\n",
       "      <td>0.5031101730543185911899564655</td>\n",
       "    </tr>\n",
       "    <tr>\n",
       "      <th>1</th>\n",
       "      <td>-0.2828629999999999755644353172101546078920364...</td>\n",
       "      <td>1.22423400000000004439471013029105961322784423...</td>\n",
       "      <td>2.342112</td>\n",
       "      <td>-0.2310530503155442221886519438</td>\n",
       "    </tr>\n",
       "    <tr>\n",
       "      <th>2</th>\n",
       "      <td>-1.5090589999999999282209728335146792232990264...</td>\n",
       "      <td>7.82342099999999973647391016129404306411743164...</td>\n",
       "      <td>0.982342</td>\n",
       "      <td>-0.1928899135045908917662103968</td>\n",
       "    </tr>\n",
       "  </tbody>\n",
       "</table>\n",
       "</div>"
      ],
      "text/plain": [
       "                                                 one  \\\n",
       "0  0.46911199999999997345412339200265705585479736...   \n",
       "1  -0.2828629999999999755644353172101546078920364...   \n",
       "2  -1.5090589999999999282209728335146792232990264...   \n",
       "\n",
       "                                                 two     three  \\\n",
       "0  0.93242400000000003057465391975711099803447723...  0.232424   \n",
       "1  1.22423400000000004439471013029105961322784423...  2.342112   \n",
       "2  7.82342099999999973647391016129404306411743164...  0.982342   \n",
       "\n",
       "                            result  \n",
       "0   0.5031101730543185911899564655  \n",
       "1  -0.2310530503155442221886519438  \n",
       "2  -0.1928899135045908917662103968  "
      ]
     },
     "execution_count": 223,
     "metadata": {},
     "output_type": "execute_result"
    }
   ],
   "source": [
    "df"
   ]
  },
  {
   "cell_type": "code",
   "execution_count": null,
   "id": "e872a95c-413d-462f-bc4f-1441143c64eb",
   "metadata": {},
   "outputs": [],
   "source": []
  }
 ],
 "metadata": {
  "kernelspec": {
   "display_name": "Python 3 (ipykernel)",
   "language": "python",
   "name": "python3"
  },
  "language_info": {
   "codemirror_mode": {
    "name": "ipython",
    "version": 3
   },
   "file_extension": ".py",
   "mimetype": "text/x-python",
   "name": "python",
   "nbconvert_exporter": "python",
   "pygments_lexer": "ipython3",
   "version": "3.9.10"
  },
  "toc-autonumbering": true
 },
 "nbformat": 4,
 "nbformat_minor": 5
}
